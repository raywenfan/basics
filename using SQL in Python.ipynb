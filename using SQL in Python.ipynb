{
 "cells": [
  {
   "cell_type": "code",
   "execution_count": 12,
   "metadata": {},
   "outputs": [
    {
     "name": "stdout",
     "output_type": "stream",
     "text": [
      "Connection to SQLite DB successful\n"
     ]
    }
   ],
   "source": [
    "import pandas as pd\n",
    "import sqlite3\n",
    "from sqlite3 import Error\n",
    "\n",
    "#creates function to create or read sqlite/db file\n",
    "def create_connection(path):\n",
    "    connection = None\n",
    "    try:\n",
    "        connection = sqlite3.connect(path)\n",
    "        print(\"Connection to SQLite DB successful\")\n",
    "    except Error as e:\n",
    "        print(f\"The error '{e}' occurred\")\n",
    "\n",
    "    return connection\n",
    "\n",
    "conn = create_connection('test.db')\n"
   ]
  },
  {
   "cell_type": "code",
   "execution_count": 13,
   "metadata": {},
   "outputs": [],
   "source": [
    "c = conn.cursor()\n",
    "\n",
    "c.execute('CREATE TABLE IF NOT EXISTS products (product_name text, price number)')\n",
    "conn.commit() #save changes\n",
    "\n",
    "data = {'product_name': ['Computer','Tablet','Monitor','Printer'],\n",
    "        'price': [900,300,450,150]\n",
    "        }\n",
    "\n",
    "df = pd.DataFrame(data, columns= ['product_name','price'])\n"
   ]
  },
  {
   "cell_type": "code",
   "execution_count": 14,
   "metadata": {},
   "outputs": [
    {
     "data": {
      "text/plain": [
       "4"
      ]
     },
     "execution_count": 14,
     "metadata": {},
     "output_type": "execute_result"
    }
   ],
   "source": [
    "df.to_sql('products', conn, if_exists='replace', index = False)\n"
   ]
  },
  {
   "cell_type": "code",
   "execution_count": 10,
   "metadata": {},
   "outputs": [
    {
     "name": "stdout",
     "output_type": "stream",
     "text": [
      "('Computer', 900)\n",
      "('Tablet', 300)\n",
      "('Monitor', 450)\n",
      "('Printer', 150)\n"
     ]
    }
   ],
   "source": [
    " \n",
    "c.execute('''  \n",
    "SELECT * FROM products\n",
    "          ''')\n",
    "\n",
    "for row in c.fetchall():\n",
    "    print (row)\n",
    "\n"
   ]
  },
  {
   "cell_type": "code",
   "execution_count": null,
   "metadata": {},
   "outputs": [],
   "source": [
    "c.execute('''  \n",
    "\t\tSELECT * FROM products\n",
    "\t\tWHERE price = (SELECT max(price) FROM products)\n",
    "          ''')\n",
    "\n",
    "df = pd.DataFrame(c.fetchall(), columns=['product_name','price'])    \n",
    "print (df)"
   ]
  },
  {
   "cell_type": "code",
   "execution_count": null,
   "metadata": {},
   "outputs": [],
   "source": [
    "\n",
    "# using read_sql_query\n",
    "\n",
    "df = pd.read_sql_query(\"SELECT * FROM products\",conn)\n",
    "df"
   ]
  }
 ],
 "metadata": {
  "kernelspec": {
   "display_name": "Python 3.10.5 64-bit",
   "language": "python",
   "name": "python3"
  },
  "language_info": {
   "codemirror_mode": {
    "name": "ipython",
    "version": 3
   },
   "file_extension": ".py",
   "mimetype": "text/x-python",
   "name": "python",
   "nbconvert_exporter": "python",
   "pygments_lexer": "ipython3",
   "version": "3.10.5"
  },
  "orig_nbformat": 4,
  "vscode": {
   "interpreter": {
    "hash": "690eac6003ec6187ab4dc6519a855d116c8bf8c6a64ecaa6aff027972d4060ec"
   }
  }
 },
 "nbformat": 4,
 "nbformat_minor": 2
}
